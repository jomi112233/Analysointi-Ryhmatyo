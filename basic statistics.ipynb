{
 "cells": [
  {
   "cell_type": "code",
   "execution_count": 1,
   "metadata": {},
   "outputs": [
    {
     "data": {
      "text/plain": [
       "(271116, 15)"
      ]
     },
     "execution_count": 1,
     "metadata": {},
     "output_type": "execute_result"
    }
   ],
   "source": [
    "import pandas as pd\n",
    "import numpy as np\n",
    "\n",
    "data = pd.read_csv(\"athlete_events.csv\")\n",
    "\n",
    "data.head()\n",
    "\n",
    "missing_count = data.isnull().sum()\n",
    "#print(data['Age'].dtype)\n",
    "\n",
    "#data = data.dropna(axis = 0, how = 'any')\n",
    "data.shape"
   ]
  },
  {
   "cell_type": "code",
   "execution_count": 7,
   "metadata": {},
   "outputs": [
    {
     "name": "stdout",
     "output_type": "stream",
     "text": [
      "vanhin  97.0 nuorin  10.0\n",
      "            ID                                 Name Sex   Age  Height  Weight  \\\n",
      "4            5             Christine Jacoba Aaftink   F  21.0   185.0    82.0   \n",
      "5            5             Christine Jacoba Aaftink   F  21.0   185.0    82.0   \n",
      "6            5             Christine Jacoba Aaftink   F  25.0   185.0    82.0   \n",
      "7            5             Christine Jacoba Aaftink   F  25.0   185.0    82.0   \n",
      "8            5             Christine Jacoba Aaftink   F  27.0   185.0    82.0   \n",
      "...        ...                                  ...  ..   ...     ...     ...   \n",
      "271080  135553  Galina Ivanovna Zybina (-Fyodorova)   F  33.0   168.0    80.0   \n",
      "271099  135560                    Stavroula Zygouri   F  36.0   171.0    63.0   \n",
      "271102  135563            Olesya Nikolayevna Zykina   F  19.0   171.0    64.0   \n",
      "271103  135563            Olesya Nikolayevna Zykina   F  23.0   171.0    64.0   \n",
      "271110  135568               Olga Igorevna Zyuzkova   F  33.0   171.0    69.0   \n",
      "\n",
      "                Team  NOC        Games  Year  Season            City  \\\n",
      "4        Netherlands  NED  1988 Winter  1988  Winter         Calgary   \n",
      "5        Netherlands  NED  1988 Winter  1988  Winter         Calgary   \n",
      "6        Netherlands  NED  1992 Winter  1992  Winter     Albertville   \n",
      "7        Netherlands  NED  1992 Winter  1992  Winter     Albertville   \n",
      "8        Netherlands  NED  1994 Winter  1994  Winter     Lillehammer   \n",
      "...              ...  ...          ...   ...     ...             ...   \n",
      "271080  Soviet Union  URS  1964 Summer  1964  Summer           Tokyo   \n",
      "271099        Greece  GRE  2004 Summer  2004  Summer          Athina   \n",
      "271102        Russia  RUS  2000 Summer  2000  Summer          Sydney   \n",
      "271103        Russia  RUS  2004 Summer  2004  Summer          Athina   \n",
      "271110       Belarus  BLR  2016 Summer  2016  Summer  Rio de Janeiro   \n",
      "\n",
      "                Sport                                      Event   Medal  \n",
      "4       Speed Skating           Speed Skating Women's 500 metres     NaN  \n",
      "5       Speed Skating         Speed Skating Women's 1,000 metres     NaN  \n",
      "6       Speed Skating           Speed Skating Women's 500 metres     NaN  \n",
      "7       Speed Skating         Speed Skating Women's 1,000 metres     NaN  \n",
      "8       Speed Skating           Speed Skating Women's 500 metres     NaN  \n",
      "...               ...                                        ...     ...  \n",
      "271080      Athletics                 Athletics Women's Shot Put  Bronze  \n",
      "271099      Wrestling  Wrestling Women's Middleweight, Freestyle     NaN  \n",
      "271102      Athletics     Athletics Women's 4 x 400 metres Relay  Bronze  \n",
      "271103      Athletics     Athletics Women's 4 x 400 metres Relay  Silver  \n",
      "271110     Basketball              Basketball Women's Basketball     NaN  \n",
      "\n",
      "[74522 rows x 15 columns]\n"
     ]
    }
   ],
   "source": [
    "vanhin = np.max(data['Age'])\n",
    "nuorin = np.min(data['Age'])\n",
    "print(\"vanhin \", vanhin, \"nuorin \", nuorin)\n",
    "ukko = data.loc[(data['Sex'] == 'F')]\n",
    "print(ukko)"
   ]
  },
  {
   "cell_type": "code",
   "execution_count": 11,
   "metadata": {},
   "outputs": [
    {
     "name": "stdout",
     "output_type": "stream",
     "text": [
      "median age  25.0\n"
     ]
    }
   ],
   "source": [
    "average = np.median(data['Age'])\n",
    "print(\"median age \", average)"
   ]
  },
  {
   "cell_type": "code",
   "execution_count": 12,
   "metadata": {},
   "outputs": [
    {
     "name": "stdout",
     "output_type": "stream",
     "text": [
      "standart deviation  5.0496840882262415\n"
     ]
    }
   ],
   "source": [
    "std_deviation = np.std(data['Age'], ddof = 1)\n",
    "print(\"standarT deviation \", std_deviation)"
   ]
  },
  {
   "cell_type": "code",
   "execution_count": 13,
   "metadata": {},
   "outputs": [
    {
     "name": "stdout",
     "output_type": "stream",
     "text": [
      "variance  5.0496840882262415\n"
     ]
    }
   ],
   "source": [
    "variance = np.var(data['Age'])\n",
    "print(\"variance \", std_deviation)"
   ]
  }
 ],
 "metadata": {
  "kernelspec": {
   "display_name": "Python 3",
   "language": "python",
   "name": "python3"
  },
  "language_info": {
   "codemirror_mode": {
    "name": "ipython",
    "version": 3
   },
   "file_extension": ".py",
   "mimetype": "text/x-python",
   "name": "python",
   "nbconvert_exporter": "python",
   "pygments_lexer": "ipython3",
   "version": "3.13.0"
  }
 },
 "nbformat": 4,
 "nbformat_minor": 2
}
