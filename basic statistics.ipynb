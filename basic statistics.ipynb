{
 "cells": [
  {
   "cell_type": "code",
   "execution_count": 1,
   "metadata": {},
   "outputs": [
    {
     "name": "stdout",
     "output_type": "stream",
     "text": [
      "object\n"
     ]
    },
    {
     "data": {
      "text/plain": [
       "(39783, 15)"
      ]
     },
     "execution_count": 1,
     "metadata": {},
     "output_type": "execute_result"
    }
   ],
   "source": [
    "import pandas as pd\n",
    "import numpy as np\n",
    "\n",
    "data = pd.read_csv(\"athlete_events.csv\")\n",
    "\n",
    "data.head()\n",
    "\n",
    "missing_count = data.isnull().sum()\n",
    "print(data['Medal'].dtype)\n",
    "\n",
    "data = data.dropna(subset = ['Medal'])\n",
    "data.shape"
   ]
  },
  {
   "cell_type": "code",
   "execution_count": 3,
   "metadata": {},
   "outputs": [
    {
     "name": "stdout",
     "output_type": "stream",
     "text": [
      "vanhin  66.0 nuorin  13.0\n",
      "           ID            Name Sex   Age  Height  Weight         Team  NOC  \\\n",
      "173379  87135  Louis Noverraz   M  66.0   179.0    78.0  Switzerland  SUI   \n",
      "\n",
      "              Games  Year  Season         City    Sport  \\\n",
      "173379  1968 Summer  1968  Summer  Mexico City  Sailing   \n",
      "\n",
      "                           Event   Medal  \n",
      "173379  Sailing Mixed 5.5 metres  Silver  \n"
     ]
    }
   ],
   "source": [
    "vanhin = np.max(data['Age'])\n",
    "nuorin = np.min(data['Age'])\n",
    "print(\"vanhin \", vanhin, \"nuorin \", nuorin)\n",
    "ukko = data.loc[(data['Sex'] == 'F')]\n",
    "print(ukko)"
   ]
  },
  {
   "cell_type": "code",
   "execution_count": 12,
   "metadata": {},
   "outputs": [
    {
     "name": "stdout",
     "output_type": "stream",
     "text": [
      "            ID                    Name Sex   Age  Height  Weight  \\\n",
      "257054  128719  John Quincy Adams Ward   M  97.0     NaN     NaN   \n",
      "\n",
      "                 Team  NOC        Games  Year  Season       City  \\\n",
      "257054  United States  USA  1928 Summer  1928  Summer  Amsterdam   \n",
      "\n",
      "                   Sport                                        Event Medal  \n",
      "257054  Art Competitions  Art Competitions Mixed Sculpturing, Statues   NaN  \n"
     ]
    }
   ],
   "source": [
    "#vanhin ja nuorimmat mitalistit\n",
    "\n",
    "ukko = data.loc[(data['Age'] == 97)]\n",
    "nouri = data.loc[(data['Age'] == 10)]\n",
    "print(ukko)\n",
    "#print(nouri)"
   ]
  },
  {
   "cell_type": "code",
   "execution_count": 14,
   "metadata": {},
   "outputs": [
    {
     "name": "stdout",
     "output_type": "stream",
     "text": [
      "            ID                      Name Sex   Age  Height  Weight  \\\n",
      "3            4      Edgar Lindenau Aabye   M  34.0     NaN     NaN   \n",
      "5305      3003  Albrekt Persson Almqvist   M  27.0     NaN     NaN   \n",
      "6935      3891   Arvid Leander Andersson   M  30.0     NaN     NaN   \n",
      "9536      5230             Rudolf Arnold   M   NaN     NaN     NaN   \n",
      "9543      5235           Adriano Arnoldo   M   NaN   192.0    95.0   \n",
      "...        ...                       ...  ..   ...     ...     ...   \n",
      "262163  131176            Josef Wittmann   M   NaN     NaN     NaN   \n",
      "262552  131369  Anders Hjalmar Wollgarth   M  29.0     NaN     NaN   \n",
      "262832  131512       James Henry Woodget   M  33.0     NaN     NaN   \n",
      "263607  131905   Gustave Marius L. Wuyts   M  17.0     NaN     NaN   \n",
      "270429  135268              Amedeo Zotti   M   NaN     NaN     NaN   \n",
      "\n",
      "                                         Team  NOC        Games  Year  Season  \\\n",
      "3                              Denmark/Sweden  DEN  1900 Summer  1900  Summer   \n",
      "5305                                   Sweden  SWE  1908 Summer  1908  Summer   \n",
      "6935                                   Sweden  SWE  1912 Summer  1912  Summer   \n",
      "9536                                  Austria  AUT  1906 Summer  1906  Summer   \n",
      "9543                                    Italy  ITA  1920 Summer  1920  Summer   \n",
      "...                                       ...  ...          ...   ...     ...   \n",
      "262163                                Austria  AUT  1906 Summer  1906  Summer   \n",
      "262552                                 Sweden  SWE  1908 Summer  1908  Summer   \n",
      "262832  K Division Metropolitan Police Team-3  GBR  1908 Summer  1908  Summer   \n",
      "263607                                Belgium  BEL  1920 Summer  1920  Summer   \n",
      "270429                                  Italy  ITA  1920 Summer  1920  Summer   \n",
      "\n",
      "             City       Sport                        Event   Medal  \n",
      "3           Paris  Tug-Of-War  Tug-Of-War Men's Tug-Of-War    Gold  \n",
      "5305       London  Tug-Of-War  Tug-Of-War Men's Tug-Of-War     NaN  \n",
      "6935    Stockholm  Tug-Of-War  Tug-Of-War Men's Tug-Of-War    Gold  \n",
      "9536       Athina  Tug-Of-War  Tug-Of-War Men's Tug-Of-War     NaN  \n",
      "9543    Antwerpen  Tug-Of-War  Tug-Of-War Men's Tug-Of-War     NaN  \n",
      "...           ...         ...                          ...     ...  \n",
      "262163     Athina  Tug-Of-War  Tug-Of-War Men's Tug-Of-War     NaN  \n",
      "262552     London  Tug-Of-War  Tug-Of-War Men's Tug-Of-War     NaN  \n",
      "262832     London  Tug-Of-War  Tug-Of-War Men's Tug-Of-War  Bronze  \n",
      "263607  Antwerpen  Tug-Of-War  Tug-Of-War Men's Tug-Of-War  Bronze  \n",
      "270429  Antwerpen  Tug-Of-War  Tug-Of-War Men's Tug-Of-War     NaN  \n",
      "\n",
      "[170 rows x 15 columns]\n"
     ]
    }
   ],
   "source": [
    "koydenveto = data.loc[(data['Sport'] == 'Tug-Of-War')]\n",
    "print(koydenveto)"
   ]
  },
  {
   "cell_type": "code",
   "execution_count": 11,
   "metadata": {},
   "outputs": [
    {
     "name": "stdout",
     "output_type": "stream",
     "text": [
      "median age  25.0\n"
     ]
    }
   ],
   "source": [
    "average = np.median(data['Age'])\n",
    "print(\"median age \", average)"
   ]
  },
  {
   "cell_type": "code",
   "execution_count": 12,
   "metadata": {},
   "outputs": [
    {
     "name": "stdout",
     "output_type": "stream",
     "text": [
      "standart deviation  5.0496840882262415\n"
     ]
    }
   ],
   "source": [
    "std_deviation = np.std(data['Age'], ddof = 1)\n",
    "print(\"standarT deviation \", std_deviation)"
   ]
  },
  {
   "cell_type": "code",
   "execution_count": 13,
   "metadata": {},
   "outputs": [
    {
     "name": "stdout",
     "output_type": "stream",
     "text": [
      "variance  5.0496840882262415\n"
     ]
    }
   ],
   "source": [
    "variance = np.var(data['Age'])\n",
    "print(\"variance \", std_deviation)"
   ]
  }
 ],
 "metadata": {
  "kernelspec": {
   "display_name": "Python 3",
   "language": "python",
   "name": "python3"
  },
  "language_info": {
   "codemirror_mode": {
    "name": "ipython",
    "version": 3
   },
   "file_extension": ".py",
   "mimetype": "text/x-python",
   "name": "python",
   "nbconvert_exporter": "python",
   "pygments_lexer": "ipython3",
   "version": "3.13.0"
  }
 },
 "nbformat": 4,
 "nbformat_minor": 2
}
