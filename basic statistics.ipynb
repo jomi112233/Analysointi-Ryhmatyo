{
 "cells": [
  {
   "cell_type": "code",
   "execution_count": 10,
   "metadata": {},
   "outputs": [
    {
     "data": {
      "text/plain": [
       "(30181, 15)"
      ]
     },
     "execution_count": 10,
     "metadata": {},
     "output_type": "execute_result"
    }
   ],
   "source": [
    "import pandas as pd\n",
    "import numpy as np\n",
    "\n",
    "data = pd.read_csv(\"athlete_events.csv\")\n",
    "\n",
    "data.head()\n",
    "\n",
    "missing_count = data.isnull().sum()\n",
    "#print(data['Age'].dtype)\n",
    "\n",
    "data = data.dropna(axis = 0, how = 'any')\n",
    "data.shape"
   ]
  },
  {
   "cell_type": "code",
   "execution_count": 22,
   "metadata": {},
   "outputs": [
    {
     "name": "stdout",
     "output_type": "stream",
     "text": [
      "vanhin  66.0 nuorin  13.0\n",
      "           ID            Name Sex   Age  Height  Weight         Team  NOC  \\\n",
      "173379  87135  Louis Noverraz   M  66.0   179.0    78.0  Switzerland  SUI   \n",
      "\n",
      "              Games  Year  Season         City    Sport  \\\n",
      "173379  1968 Summer  1968  Summer  Mexico City  Sailing   \n",
      "\n",
      "                           Event   Medal  \n",
      "173379  Sailing Mixed 5.5 metres  Silver  \n"
     ]
    }
   ],
   "source": [
    "vanhin = np.max(data['Age'])\n",
    "nuorin = np.min(data['Age'])\n",
    "print(\"vanhin \", vanhin, \"nuorin \", nuorin)\n",
    "ukko = data.loc[(data['Age'] == 66)]\n",
    "print(ukko)"
   ]
  },
  {
   "cell_type": "code",
   "execution_count": 11,
   "metadata": {},
   "outputs": [
    {
     "name": "stdout",
     "output_type": "stream",
     "text": [
      "median age  25.0\n"
     ]
    }
   ],
   "source": [
    "average = np.median(data['Age'])\n",
    "print(\"median age \", average)"
   ]
  },
  {
   "cell_type": "code",
   "execution_count": 12,
   "metadata": {},
   "outputs": [
    {
     "name": "stdout",
     "output_type": "stream",
     "text": [
      "standart deviation  5.0496840882262415\n"
     ]
    }
   ],
   "source": [
    "std_deviation = np.std(data['Age'], ddof = 1)\n",
    "print(\"standarT deviation \", std_deviation)"
   ]
  },
  {
   "cell_type": "code",
   "execution_count": 13,
   "metadata": {},
   "outputs": [
    {
     "name": "stdout",
     "output_type": "stream",
     "text": [
      "variance  5.0496840882262415\n"
     ]
    }
   ],
   "source": [
    "variance = np.var(data['Age'])\n",
    "print(\"variance \", std_deviation)"
   ]
  }
 ],
 "metadata": {
  "kernelspec": {
   "display_name": "Python 3",
   "language": "python",
   "name": "python3"
  },
  "language_info": {
   "codemirror_mode": {
    "name": "ipython",
    "version": 3
   },
   "file_extension": ".py",
   "mimetype": "text/x-python",
   "name": "python",
   "nbconvert_exporter": "python",
   "pygments_lexer": "ipython3",
   "version": "3.13.0"
  }
 },
 "nbformat": 4,
 "nbformat_minor": 2
}
