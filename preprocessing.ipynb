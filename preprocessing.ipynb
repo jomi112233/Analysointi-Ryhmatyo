{
 "cells": [
  {
   "cell_type": "markdown",
   "metadata": {},
   "source": [
    "\n",
    "# 120 vuotta olympia kilpailijoita (1896-2016)\n",
    "\n",
    "päätimme tarkestella mitalisteja"
   ]
  },
  {
   "cell_type": "code",
   "execution_count": 2,
   "metadata": {},
   "outputs": [
    {
     "name": "stdout",
     "output_type": "stream",
     "text": [
      "ID           0\n",
      "Name         0\n",
      "Sex          0\n",
      "Age        732\n",
      "Height    8711\n",
      "Weight    9327\n",
      "Team         0\n",
      "NOC          0\n",
      "Games        0\n",
      "Year         0\n",
      "Season       0\n",
      "City         0\n",
      "Sport        0\n",
      "Event        0\n",
      "Medal        0\n",
      "dtype: int64\n"
     ]
    }
   ],
   "source": [
    "import pandas as pd\n",
    "import numpy as np\n",
    "\n",
    "data = pd.read_csv(\"athlete_events.csv\")\n",
    "\n",
    "data.head()\n",
    "\n",
    "data = data.dropna(subset = ['Medal'])\n",
    "missing_count = data.isnull().sum()\n",
    "print(missing_count)"
   ]
  },
  {
   "cell_type": "code",
   "execution_count": 3,
   "metadata": {},
   "outputs": [
    {
     "name": "stdout",
     "output_type": "stream",
     "text": [
      "3.1453971126695657\n"
     ]
    }
   ],
   "source": [
    "missing_count = data.isnull().sum()\n",
    "\n",
    "total_data = np.prod(data.shape)\n",
    "total_missing = missing_count.sum()\n",
    "per_of_missing_data = (total_missing / total_data) * 100\n",
    "print(per_of_missing_data)\n"
   ]
  },
  {
   "cell_type": "code",
   "execution_count": 4,
   "metadata": {},
   "outputs": [
    {
     "name": "stdout",
     "output_type": "stream",
     "text": [
      "<class 'pandas.core.frame.DataFrame'>\n",
      "Index: 39783 entries, 3 to 271103\n",
      "Data columns (total 15 columns):\n",
      " #   Column  Non-Null Count  Dtype  \n",
      "---  ------  --------------  -----  \n",
      " 0   ID      39783 non-null  int64  \n",
      " 1   Name    39783 non-null  object \n",
      " 2   Sex     39783 non-null  object \n",
      " 3   Age     39051 non-null  float64\n",
      " 4   Height  31072 non-null  float64\n",
      " 5   Weight  30456 non-null  float64\n",
      " 6   Team    39783 non-null  object \n",
      " 7   NOC     39783 non-null  object \n",
      " 8   Games   39783 non-null  object \n",
      " 9   Year    39783 non-null  int64  \n",
      " 10  Season  39783 non-null  object \n",
      " 11  City    39783 non-null  object \n",
      " 12  Sport   39783 non-null  object \n",
      " 13  Event   39783 non-null  object \n",
      " 14  Medal   39783 non-null  object \n",
      "dtypes: float64(3), int64(2), object(10)\n",
      "memory usage: 4.9+ MB\n"
     ]
    }
   ],
   "source": [
    "data.info()"
   ]
  },
  {
   "cell_type": "code",
   "execution_count": 5,
   "metadata": {},
   "outputs": [
    {
     "data": {
      "text/plain": [
       "Index(['ID', 'Name', 'Sex', 'Age', 'Height', 'Weight', 'Team', 'NOC', 'Games',\n",
       "       'Year', 'Season', 'City', 'Sport', 'Event', 'Medal'],\n",
       "      dtype='object')"
      ]
     },
     "execution_count": 5,
     "metadata": {},
     "output_type": "execute_result"
    }
   ],
   "source": [
    "data.columns"
   ]
  },
  {
   "cell_type": "code",
   "execution_count": 9,
   "metadata": {},
   "outputs": [
    {
     "data": {
      "text/plain": [
       "Index([     3,     37,     38,     40,     41,     42,     44,     48,     50,\n",
       "           60,\n",
       "       ...\n",
       "       271032, 271046, 271048, 271049, 271076, 271078, 271080, 271082, 271102,\n",
       "       271103],\n",
       "      dtype='int64', length=39783)"
      ]
     },
     "execution_count": 9,
     "metadata": {},
     "output_type": "execute_result"
    }
   ],
   "source": [
    "data.index"
   ]
  },
  {
   "cell_type": "code",
   "execution_count": 8,
   "metadata": {},
   "outputs": [
    {
     "data": {
      "text/plain": [
       "(39783, 15)"
      ]
     },
     "execution_count": 8,
     "metadata": {},
     "output_type": "execute_result"
    }
   ],
   "source": [
    "data.shape"
   ]
  },
  {
   "cell_type": "code",
   "execution_count": 7,
   "metadata": {},
   "outputs": [
    {
     "data": {
      "text/plain": [
       "array([[4, 'Edgar Lindenau Aabye', 'M', ..., 'Tug-Of-War',\n",
       "        \"Tug-Of-War Men's Tug-Of-War\", 'Gold'],\n",
       "       [15, 'Arvo Ossian Aaltonen', 'M', ..., 'Swimming',\n",
       "        \"Swimming Men's 200 metres Breaststroke\", 'Bronze'],\n",
       "       [15, 'Arvo Ossian Aaltonen', 'M', ..., 'Swimming',\n",
       "        \"Swimming Men's 400 metres Breaststroke\", 'Bronze'],\n",
       "       ...,\n",
       "       [135554, 'Bogusaw Zych', 'M', ..., 'Fencing',\n",
       "        \"Fencing Men's Foil, Team\", 'Bronze'],\n",
       "       [135563, 'Olesya Nikolayevna Zykina', 'F', ..., 'Athletics',\n",
       "        \"Athletics Women's 4 x 400 metres Relay\", 'Bronze'],\n",
       "       [135563, 'Olesya Nikolayevna Zykina', 'F', ..., 'Athletics',\n",
       "        \"Athletics Women's 4 x 400 metres Relay\", 'Silver']], dtype=object)"
      ]
     },
     "execution_count": 7,
     "metadata": {},
     "output_type": "execute_result"
    }
   ],
   "source": [
    "data.values"
   ]
  },
  {
   "cell_type": "code",
   "execution_count": 6,
   "metadata": {},
   "outputs": [
    {
     "data": {
      "text/html": [
       "<div>\n",
       "<style scoped>\n",
       "    .dataframe tbody tr th:only-of-type {\n",
       "        vertical-align: middle;\n",
       "    }\n",
       "\n",
       "    .dataframe tbody tr th {\n",
       "        vertical-align: top;\n",
       "    }\n",
       "\n",
       "    .dataframe thead th {\n",
       "        text-align: right;\n",
       "    }\n",
       "</style>\n",
       "<table border=\"1\" class=\"dataframe\">\n",
       "  <thead>\n",
       "    <tr style=\"text-align: right;\">\n",
       "      <th></th>\n",
       "      <th>Medal</th>\n",
       "      <th>Year</th>\n",
       "    </tr>\n",
       "  </thead>\n",
       "  <tbody>\n",
       "    <tr>\n",
       "      <th>3</th>\n",
       "      <td>Gold</td>\n",
       "      <td>1900</td>\n",
       "    </tr>\n",
       "    <tr>\n",
       "      <th>37</th>\n",
       "      <td>Bronze</td>\n",
       "      <td>1920</td>\n",
       "    </tr>\n",
       "    <tr>\n",
       "      <th>38</th>\n",
       "      <td>Bronze</td>\n",
       "      <td>1920</td>\n",
       "    </tr>\n",
       "    <tr>\n",
       "      <th>40</th>\n",
       "      <td>Bronze</td>\n",
       "      <td>2014</td>\n",
       "    </tr>\n",
       "    <tr>\n",
       "      <th>41</th>\n",
       "      <td>Bronze</td>\n",
       "      <td>1948</td>\n",
       "    </tr>\n",
       "    <tr>\n",
       "      <th>...</th>\n",
       "      <td>...</td>\n",
       "      <td>...</td>\n",
       "    </tr>\n",
       "    <tr>\n",
       "      <th>271078</th>\n",
       "      <td>Silver</td>\n",
       "      <td>1956</td>\n",
       "    </tr>\n",
       "    <tr>\n",
       "      <th>271080</th>\n",
       "      <td>Bronze</td>\n",
       "      <td>1964</td>\n",
       "    </tr>\n",
       "    <tr>\n",
       "      <th>271082</th>\n",
       "      <td>Bronze</td>\n",
       "      <td>1980</td>\n",
       "    </tr>\n",
       "    <tr>\n",
       "      <th>271102</th>\n",
       "      <td>Bronze</td>\n",
       "      <td>2000</td>\n",
       "    </tr>\n",
       "    <tr>\n",
       "      <th>271103</th>\n",
       "      <td>Silver</td>\n",
       "      <td>2004</td>\n",
       "    </tr>\n",
       "  </tbody>\n",
       "</table>\n",
       "<p>39783 rows × 2 columns</p>\n",
       "</div>"
      ],
      "text/plain": [
       "         Medal  Year\n",
       "3         Gold  1900\n",
       "37      Bronze  1920\n",
       "38      Bronze  1920\n",
       "40      Bronze  2014\n",
       "41      Bronze  1948\n",
       "...        ...   ...\n",
       "271078  Silver  1956\n",
       "271080  Bronze  1964\n",
       "271082  Bronze  1980\n",
       "271102  Bronze  2000\n",
       "271103  Silver  2004\n",
       "\n",
       "[39783 rows x 2 columns]"
      ]
     },
     "execution_count": 6,
     "metadata": {},
     "output_type": "execute_result"
    }
   ],
   "source": [
    "data[['Medal', 'Year']]"
   ]
  },
  {
   "cell_type": "code",
   "execution_count": null,
   "metadata": {},
   "outputs": [],
   "source": [
    "data.loc[(data['Name'] == 'Paavo Ilmari Yrjl')]"
   ]
  },
  {
   "cell_type": "code",
   "execution_count": null,
   "metadata": {},
   "outputs": [],
   "source": [
    "missing_count = data.isnull().sum()\n",
    "print(missing_count)"
   ]
  }
 ],
 "metadata": {
  "kernelspec": {
   "display_name": "Python 3",
   "language": "python",
   "name": "python3"
  },
  "language_info": {
   "codemirror_mode": {
    "name": "ipython",
    "version": 3
   },
   "file_extension": ".py",
   "mimetype": "text/x-python",
   "name": "python",
   "nbconvert_exporter": "python",
   "pygments_lexer": "ipython3",
   "version": "3.13.0"
  }
 },
 "nbformat": 4,
 "nbformat_minor": 2
}
